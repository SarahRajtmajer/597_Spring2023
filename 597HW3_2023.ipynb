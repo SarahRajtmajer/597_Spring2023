{
 "cells": [
  {
   "cell_type": "markdown",
   "metadata": {},
   "source": [
    "# PSU IST 597.005: Homework 3\n",
    "## Differential Privacy"
   ]
  },
  {
   "cell_type": "markdown",
   "metadata": {},
   "source": [
    "### Instructions\n",
    "\n",
    "To ensure that the notebook runs, I've defined a function your_code_here() that simply returns the number 1. Whenever you see a call to this function, you should replace it with code you have written. Please make sure all cells of your notebook run without error before submitting the assignment. If you have not completed all the questions, leave calls to your_code_here() in place or insert dummy values so that the cell does not throw an error when it runs.\n",
    "\n",
    "When answering non-code questions, feel free to use a comment, or keep the cell in Markdown mode and use Markdown. When you have finished your assignment, please submit it via Canvas."
   ]
  },
  {
   "cell_type": "markdown",
   "metadata": {},
   "source": [
    "### Preamble"
   ]
  },
  {
   "cell_type": "code",
   "execution_count": 21,
   "metadata": {},
   "outputs": [],
   "source": [
    "%matplotlib inline\n",
    "import matplotlib.pyplot as plt\n",
    "plt.style.use('seaborn-whitegrid')\n",
    "import pandas as pd\n",
    "import numpy as np\n",
    "import random\n",
    "\n",
    "# Our usual dataset\n",
    "\n",
    "adult_data = pd.read_csv(\"adult_with_pii.csv\")\n",
    "adult_data['DOB'] = pd.to_datetime(adult_data['DOB'], errors='coerce')\n",
    "adult_data.head()\n",
    "\n",
    "# Some useful utilities from earlier assignments\n",
    "\n",
    "def laplace_mech(v, sensitivity, epsilon):\n",
    "    return v + np.random.laplace(loc=0, scale=sensitivity / epsilon)\n",
    "\n",
    "def laplace_mech_vec(vec, sensitivity, epsilon):\n",
    "    return [v + np.random.laplace(loc=0, scale=sensitivity / epsilon) for v in vec]\n",
    "\n",
    "def gaussian_mech(v, sensitivity, epsilon, delta):\n",
    "    return v + np.random.normal(loc=0, scale=sensitivity * np.sqrt(2*np.log(1.25/delta)) / epsilon)\n",
    "\n",
    "def gaussian_mech_vec(vec, sensitivity, epsilon, delta):\n",
    "    return [v + np.random.normal(loc=0, scale=sensitivity * np.sqrt(2*np.log(1.25/delta)) / epsilon)\n",
    "            for v in vec]\n",
    "\n",
    "def z_clip(xs, b):\n",
    "    return [min(x, b) for x in xs]\n",
    "\n",
    "def clip(xs, upper, lower):\n",
    "    return [max(min(x, upper), lower) for x in xs]\n",
    "\n",
    "def pct_error(orig, priv):\n",
    "    return np.abs(orig - priv)/orig * 100.0\n",
    "\n",
    "def your_code_here():\n",
    "    return 1"
   ]
  },
  {
   "cell_type": "markdown",
   "metadata": {},
   "source": [
    "## Collaboration Statement\n",
    "\n",
    "**You are expected to work indepdently on this assignment.** Everyone should write their *own code and responses*. You may collaborate with a classmate through *high level* discussions (only). To the extent that you do so, please describe this in the collaboration statment below."
   ]
  },
  {
   "cell_type": "markdown",
   "metadata": {},
   "source": [
    ">In this cell write your collaboration statement"
   ]
  },
  {
   "cell_type": "markdown",
   "metadata": {},
   "source": [
    "### Question 1 (1 point)"
   ]
  },
  {
   "cell_type": "markdown",
   "metadata": {},
   "source": [
    "Write code to answer the query: \"how many participants have never been married?\"\n",
    "\n",
    "*Note*: \"marital status\" is misspelled as `Martial Status` in the column names."
   ]
  },
  {
   "cell_type": "code",
   "execution_count": 6,
   "metadata": {},
   "outputs": [],
   "source": [
    "def query1():\n",
    "    your_code_here()\n",
    "\n",
    "query1()"
   ]
  },
  {
   "cell_type": "markdown",
   "metadata": {},
   "source": [
    "### Question 2 (3 points)\n",
    "\n",
    "Use the implementation of `laplace_mech` defined in the preamble to produce a differentially private answer to `query1`, with `epsilon = 0.1`."
   ]
  },
  {
   "cell_type": "code",
   "execution_count": 8,
   "metadata": {},
   "outputs": [],
   "source": [
    "def dp_query1(epsilon):\n",
    "    your_code_here()\n",
    "\n",
    "dp_query1(0.1)"
   ]
  },
  {
   "cell_type": "markdown",
   "metadata": {},
   "source": [
    "### Question 3 (6 points)\n",
    "\n",
    "The `pct_error` function, defined below, returns the percent relative error between an original query result and a differentially private result for the same query.\n",
    "\n",
    "Implement a function `graph_error1` that:\n",
    "\n",
    "- Calculates 1000 differentially private answers to `dp_query1`\n",
    "- Calculates the percent error for each one of these answers against the original (non-private) answer\n",
    "- Graphs the distribution of errors using a histogram\n",
    "\n",
    "Plot errors for `epsilon=0.1` and `epsilon=1.0`."
   ]
  },
  {
   "cell_type": "code",
   "execution_count": 11,
   "metadata": {},
   "outputs": [],
   "source": [
    "def graph_error1(epsilon):\n",
    "    your_code_here()\n",
    "\n",
    "graph_error1(0.1)\n",
    "graph_error1(1.0)"
   ]
  },
  {
   "cell_type": "markdown",
   "metadata": {},
   "source": [
    "### Question 4 (4 points)\n",
    "\n",
    "In 2-5 sentences, answer the following:\n",
    "\n",
    "- How does the histogram of relative errors for $\\epsilon = 0.1$ differ from the one for $\\epsilon = 1.0$?\n",
    "- What do the two histograms tell you about the effect of $\\epsilon$ on relative error?"
   ]
  },
  {
   "cell_type": "markdown",
   "metadata": {},
   "source": [
    ">Your answer here."
   ]
  },
  {
   "cell_type": "markdown",
   "metadata": {},
   "source": [
    "### Question 5 (6 points)\n",
    "\n",
    "Consider `query2`, which asks how many people in the dataset are over the age of 60."
   ]
  },
  {
   "cell_type": "code",
   "execution_count": 11,
   "metadata": {},
   "outputs": [],
   "source": [
    "def query2():\n",
    "    return len(adult[adult['Age'] > 60])"
   ]
  },
  {
   "cell_type": "markdown",
   "metadata": {},
   "source": [
    "Implement `dp_query2`, a differentially private version of `query2` (as in question 2), and `graph_error2`, which graphs relative error for `dp_query2` (as in question 3)."
   ]
  },
  {
   "cell_type": "code",
   "execution_count": 12,
   "metadata": {},
   "outputs": [],
   "source": [
    "def dp_query2(epsilon):\n",
    "    your_code_here()\n",
    "\n",
    "def graph_error2(epsilon):\n",
    "    your_code_here()\n",
    "\n",
    "graph_error2(1.0)\n",
    "graph_error1(1.0) #plot both errors for query 1 and query 2 at the same epsilon, to compare"
   ]
  },
  {
   "cell_type": "markdown",
   "metadata": {},
   "source": [
    "### Question 6 (2 points)\n",
    "\n",
    "In 2-5 sentences, answer the following:\n",
    "\n",
    "- How does relative error differ between `dp_query1` and `dp_query2` for the same value of $\\epsilon$?\n",
    "- What property of the query causes the difference in relative errors between `dp_query1` and `dp_query2`?"
   ]
  },
  {
   "cell_type": "markdown",
   "metadata": {},
   "source": [
    ">Your answer here."
   ]
  },
  {
   "cell_type": "markdown",
   "metadata": {},
   "source": [
    "### Question 7 (5 points)\n",
    "\n",
    "Build a [contingency table](https://en.wikipedia.org/wiki/Contingency_table) between the `Martial Status` and `Sex` columns of the `adult_data` dataframe.\n",
    "\n",
    "*Hint*: you can use `pd.crosstab(..., ...)` (documentation [here](https://pandas.pydata.org/pandas-docs/stable/generated/pandas.crosstab.html))"
   ]
  },
  {
   "cell_type": "code",
   "execution_count": 13,
   "metadata": {},
   "outputs": [
    {
     "data": {
      "text/plain": [
       "1"
      ]
     },
     "execution_count": 13,
     "metadata": {},
     "output_type": "execute_result"
    }
   ],
   "source": [
    "your_code_here()"
   ]
  },
  {
   "cell_type": "markdown",
   "metadata": {},
   "source": [
    "### Question 8 (5 points)\n",
    "\n",
    "Write code to build a differentially private version of your result from Question 7."
   ]
  },
  {
   "cell_type": "code",
   "execution_count": 14,
   "metadata": {},
   "outputs": [
    {
     "data": {
      "text/plain": [
       "1"
      ]
     },
     "execution_count": 14,
     "metadata": {},
     "output_type": "execute_result"
    }
   ],
   "source": [
    "your_code_here()"
   ]
  },
  {
   "cell_type": "markdown",
   "metadata": {},
   "source": [
    "### Question 9 (5 points)\n",
    "\n",
    "Write code to display a table containing percent errors for each of the cells in your answer to Question 8."
   ]
  },
  {
   "cell_type": "code",
   "execution_count": 15,
   "metadata": {},
   "outputs": [
    {
     "data": {
      "text/plain": [
       "1"
      ]
     },
     "execution_count": 15,
     "metadata": {},
     "output_type": "execute_result"
    }
   ],
   "source": [
    "your_code_here()"
   ]
  },
  {
   "cell_type": "markdown",
   "metadata": {},
   "source": [
    "### Question 10 (3 points)\n",
    "\n",
    "In 2-3 sentences, answer the following question:\n",
    "- What is the privacy cost of your answer to Question 8? Why?"
   ]
  },
  {
   "cell_type": "markdown",
   "metadata": {},
   "source": [
    ">Your answer here."
   ]
  },
  {
   "cell_type": "markdown",
   "metadata": {},
   "source": [
    "### Question 11 (5 points)\n",
    "\n",
    "Write code to compute the average of the values of the `Capital Gain` column of the dataset. Run your code for various values of the clipping parameter `b`."
   ]
  },
  {
   "cell_type": "code",
   "execution_count": null,
   "metadata": {},
   "outputs": [],
   "source": [
    "your_code_here()"
   ]
  },
  {
   "cell_type": "markdown",
   "metadata": {},
   "source": [
    "### Question 12 (10 points)\n",
    "\n",
    "Write code to return the differentially private average of `Capital Gain` parameterized by the clipping parameter `b`. Run your code for various values of `b` and use `pct_error` to determine the error introduced for each value of `b`."
   ]
  },
  {
   "cell_type": "code",
   "execution_count": 16,
   "metadata": {},
   "outputs": [
    {
     "data": {
      "text/plain": [
       "1"
      ]
     },
     "execution_count": 16,
     "metadata": {},
     "output_type": "execute_result"
    }
   ],
   "source": [
    "your_code_here()"
   ]
  },
  {
   "cell_type": "markdown",
   "metadata": {},
   "source": [
    "### Question 13 (5 points)\n",
    "\n",
    "In 5-10 sentences, answer the following:\n",
    "\n",
    "- In Question 11, at approximately what value of the clipping parameter `b` does the clipped average approach the original (un-clipped) average?\n",
    "- What is the sensitivity of the clipped average at this value of `b`, and why?\n",
    "- In Question 12, at approximately what value of the clipping parameter `b` is the error minimized?\n",
    "- Which seems to be more important for accuracy - the value of `b` or the scale of the noise added? Why?\n",
    "- Do you think the answer to the previous point will be true for every dataset? Why or why not?"
   ]
  },
  {
   "cell_type": "markdown",
   "metadata": {},
   "source": [
    ">Your answer here."
   ]
  },
  {
   "cell_type": "markdown",
   "metadata": {},
   "source": [
    "### Question 14 (10 points)\n",
    "\n",
    "Write code to answer the question: How do the Laplace and Gaussian mechanisms compare in terms of relative error on the query \"how many individuals are over 50 years old\" with $\\epsilon = 0.1$ and $\\delta = 10^{-5}$?  In the cell below your code, explain your answer to the question."
   ]
  },
  {
   "cell_type": "code",
   "execution_count": 18,
   "metadata": {},
   "outputs": [
    {
     "data": {
      "text/plain": [
       "1"
      ]
     },
     "execution_count": 18,
     "metadata": {},
     "output_type": "execute_result"
    }
   ],
   "source": [
    "your_code_here()"
   ]
  },
  {
   "cell_type": "markdown",
   "metadata": {},
   "source": [
    ">Your answer here."
   ]
  },
  {
   "cell_type": "markdown",
   "metadata": {},
   "source": [
    "### Range Queries\n",
    "\n",
    "A *range query* counts the number of rows in the dataset which have a value lying in a given range. For example, \"how many participants are between the ages of 21 and 33?\" is a range query. A *workload* of range queries is just a list of range queries. The code below generates 100 random range queries over ages in the adult dataset."
   ]
  },
  {
   "cell_type": "code",
   "execution_count": 25,
   "metadata": {},
   "outputs": [
    {
     "name": "stdout",
     "output_type": "stream",
     "text": [
      "First 5 queries:  [(19, 93), (13, 43), (4, 99), (41, 80), (22, 37)]\n"
     ]
    }
   ],
   "source": [
    "def range_query(df, col, a, b):\n",
    "    return len(df[(df[col] >= a) & (df[col] < b)])\n",
    "\n",
    "random_lower_bounds = [random.randint(1, 70) for _ in range(100)]\n",
    "random_workload = [(lb, random.randint(lb, 100)) for lb in random_lower_bounds]\n",
    "real_answers = [range_query(adult_data, 'Age', lb, ub) for (lb, ub) in random_workload]\n",
    "print('First 5 queries: ', random_workload[:5])"
   ]
  },
  {
   "cell_type": "markdown",
   "metadata": {},
   "source": [
    "### Question 15 (10 points)\n",
    "\n",
    "Write code to answer a workload of range queries using `laplace_mech` and sequential composition. Your solution should have a **total privacy cost of epsilon**."
   ]
  },
  {
   "cell_type": "code",
   "execution_count": 27,
   "metadata": {},
   "outputs": [],
   "source": [
    "def workload_laplace(workload, epsilon):\n",
    "    your_code_here()\n",
    "\n",
    "print('First 4 answers:', workload_laplace(random_workload, 1.0)[:4])"
   ]
  },
  {
   "cell_type": "code",
   "execution_count": null,
   "metadata": {},
   "outputs": [],
   "source": [
    "errors = [abs(r_a - l_a) for (r_a, l_a) in zip(real_answers, workload_laplace(random_workload, 1.0))]\n",
    "print('Average absolute error:', np.mean(errors))"
   ]
  },
  {
   "cell_type": "markdown",
   "metadata": {},
   "source": [
    "### Question 16 (10 points)\n",
    "\n",
    "Write code to answer a workload using `laplace_mech_vec` - the version of the Laplace mechanism for **vector-valued** queries. Your solution should *not* use sequential composition, and should have a total privacy cost of `epsilon`."
   ]
  },
  {
   "cell_type": "code",
   "execution_count": null,
   "metadata": {},
   "outputs": [],
   "source": [
    "def workload_laplace_vec(workload, epsilon):\n",
    "    your_code_here()\n",
    "\n",
    "print('First 4 answers:', workload_laplace_vec(random_workload, 1.0)[:4])"
   ]
  },
  {
   "cell_type": "code",
   "execution_count": null,
   "metadata": {},
   "outputs": [],
   "source": [
    "errors = [abs(r_a - l_a) for (r_a, l_a) in zip(real_answers, workload_laplace_vec(random_workload, 1.0))]\n",
    "print('Average absolute error:', np.mean(errors))"
   ]
  },
  {
   "cell_type": "markdown",
   "metadata": {},
   "source": [
    "### Question 17 (10 points)\n",
    "\n",
    "Write code to answer a workload using `gaussian_mech_vec` - the version of the Gaussian mechanism for vector-valued queries. Your solution should not use sequential composition, should satisfy $(\\epsilon, \\delta)$-differential privacy, and should have a total privacy cost of (`epsilon`, `delta`)."
   ]
  },
  {
   "cell_type": "code",
   "execution_count": null,
   "metadata": {},
   "outputs": [],
   "source": [
    "def workload_gaussian_vec(workload, epsilon, delta):\n",
    "    your_code_here()\n",
    "\n",
    "print('First 4 answers:', workload_gaussian_vec(random_workload, 1.0, 1e-5)[:4])"
   ]
  },
  {
   "cell_type": "code",
   "execution_count": null,
   "metadata": {},
   "outputs": [],
   "source": [
    "errors = [abs(r_a - l_a) for (r_a, l_a) in zip(real_answers, workload_gaussian_vec(random_workload, 1.0, 1e-5))]\n",
    "print('Average absolute error:', np.mean(errors))"
   ]
  },
  {
   "cell_type": "markdown",
   "metadata": {},
   "source": [
    "### Question 18 (10 points)\n",
    "\n",
    "In 2-5 sentences, answer the following:\n",
    "- Of your solutions in questions 15-17, which ones rely on *sequential composition*?\n",
    "- Which solution offers the best accuracy?\n",
    "- Why does this particular solution yield the best accuracy?"
   ]
  },
  {
   "cell_type": "markdown",
   "metadata": {},
   "source": [
    ">Your answer here."
   ]
  }
 ],
 "metadata": {
  "kernelspec": {
   "display_name": "Python 3",
   "language": "python",
   "name": "python3"
  },
  "language_info": {
   "codemirror_mode": {
    "name": "ipython",
    "version": 3
   },
   "file_extension": ".py",
   "mimetype": "text/x-python",
   "name": "python",
   "nbconvert_exporter": "python",
   "pygments_lexer": "ipython3",
   "version": "3.8.8"
  }
 },
 "nbformat": 4,
 "nbformat_minor": 2
}
